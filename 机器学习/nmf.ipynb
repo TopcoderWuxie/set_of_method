{
 "cells": [
  {
   "cell_type": "markdown",
   "metadata": {},
   "source": [
    "根据NMF的基本实现思路可知，目的就是 $argmin (\\frac{1}{2}\\sum_{i,j}(V_{ij} - (WH)_{ij})^2)$"
   ]
  },
  {
   "cell_type": "code",
   "execution_count": 1,
   "metadata": {
    "collapsed": true
   },
   "outputs": [],
   "source": [
    "import numpy as np\n",
    "from sklearn.decomposition import NMF"
   ]
  },
  {
   "cell_type": "code",
   "execution_count": 2,
   "metadata": {
    "collapsed": true
   },
   "outputs": [],
   "source": [
    "V = np.array([[1,1,5,2,3], [0,6,2,1,1], [3, 4,0,3,1], [4, 1,5,6,3]])\n",
    "model = NMF(n_components=2, alpha=0.01) # NMF的参数参考链接1"
   ]
  },
  {
   "cell_type": "code",
   "execution_count": 3,
   "metadata": {
    "collapsed": false,
    "scrolled": true
   },
   "outputs": [
    {
     "name": "stdout",
     "output_type": "stream",
     "text": [
      "[[ 1.67371185  0.02013017]\n",
      " [ 0.40564826  2.17004352]\n",
      " [ 0.77627836  1.5179425 ]\n",
      " [ 2.66991709  0.00940262]]\n",
      "[[ 1.32014421  0.40901559  2.10322743  1.99087019  1.29852389]\n",
      " [ 0.25859086  2.59911791  0.00488947  0.37089193  0.14622829]]\n"
     ]
    }
   ],
   "source": [
    "W = model.fit_transform(V)\n",
    "H = model.components_\n",
    "\n",
    "print W\n",
    "print H"
   ]
  },
  {
   "cell_type": "markdown",
   "metadata": {
    "collapsed": true
   },
   "source": [
    "NMF的相关参考链接：\n",
    "1. http://www.cnblogs.com/pinard/p/6812011.html\n",
    "2. https://blog.csdn.net/acdreamers/article/details/44663421"
   ]
  }
 ],
 "metadata": {
  "kernelspec": {
   "display_name": "Python 2",
   "language": "python",
   "name": "python2"
  },
  "language_info": {
   "codemirror_mode": {
    "name": "ipython",
    "version": 2
   },
   "file_extension": ".py",
   "mimetype": "text/x-python",
   "name": "python",
   "nbconvert_exporter": "python",
   "pygments_lexer": "ipython2",
   "version": "2.7.13"
  }
 },
 "nbformat": 4,
 "nbformat_minor": 2
}
